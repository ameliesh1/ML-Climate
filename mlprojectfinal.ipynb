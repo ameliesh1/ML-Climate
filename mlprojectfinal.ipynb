{
 "cells": [
  {
   "cell_type": "code",
   "execution_count": null,
   "id": "9d83e026-d055-4441-a451-860a3c2a10e3",
   "metadata": {},
   "outputs": [],
   "source": [
    "import os\n",
    "import numpy as np\n",
    "import tensorflow as tf\n",
    "from tensorflow.keras.preprocessing.image import ImageDataGenerator\n",
    "from tensorflow.keras.models import Sequential\n",
    "from tensorflow.keras.layers import Conv2D, MaxPooling2D, Flatten, Dense, Dropout\n",
    "from tensorflow.keras.optimizers import Adam\n",
    "from sklearn.model_selection import train_test_split\n",
    "from shutil import copyfile\n",
    "import matplotlib.pyplot as plt\n",
    "\n",
    "from google.colab import drive\n",
    "drive.mount('/content/drive')"
   ]
  },
  {
   "cell_type": "code",
   "execution_count": null,
   "id": "ad69645a-7a6e-4e15-b9fc-67931e7d39d9",
   "metadata": {},
   "outputs": [],
   "source": [
    "base_dir = '/content/drive/MyDrive/FireRisk'\n",
    "train_dir = os.path.join(base_dir, 'train')"
   ]
  },
  {
   "cell_type": "code",
   "execution_count": null,
   "id": "0a700733-acc9-45cf-bc01-4e09fdbed38e",
   "metadata": {},
   "outputs": [],
   "source": [
    "def stratified_split(directory, test_size=0.2, val_size=0.2, seed=42):\n",
    "    file_paths = []\n",
    "    labels = []\n",
    "    class_names = sorted(os.listdir(directory))\n",
    "\n",
    "    for label_idx, class_name in enumerate(class_names):\n",
    "        class_dir = os.path.join(directory, class_name)\n",
    "        class_files = [os.path.join(class_dir, f)\n",
    "                      for f in os.listdir(class_dir)\n",
    "                      if f.endswith(('.jpg', '.jpeg', '.png'))]\n",
    "        file_paths.extend(class_files)\n",
    "        labels.extend([label_idx] * len(class_files))\n",
    "\n",
    "    file_paths = np.array(file_paths)\n",
    "    labels = np.array(labels)\n",
    "\n",
    "    X = np.array(file_paths)\n",
    "    y = np.array(labels)\n",
    "\n",
    "    X_train_val, X_test, y_train_val, y_test = train_test_split(\n",
    "        X, y, test_size=test_size, stratify=y, random_state=seed)\n",
    "\n",
    "    val_size_adjusted = val_size / (1 - test_size)  \n",
    "    X_train, X_val, y_train, y_val = train_test_split(\n",
    "        X_train_val, y_train_val, test_size=val_size_adjusted,\n",
    "        stratify=y_train_val, random_state=seed)\n",
    "\n",
    "    return (X_train, y_train), (X_val, y_val), (X_test, y_test)"
   ]
  },
  {
   "cell_type": "code",
   "execution_count": null,
   "id": "b33f1d2a-7695-4684-8951-e435595b4250",
   "metadata": {},
   "outputs": [],
   "source": [
    "(X_train, y_train), (X_val, y_val), (X_test, y_test) = stratified_split(train_dir)"
   ]
  },
  {
   "cell_type": "code",
   "execution_count": null,
   "id": "5fb7a8ab-96ac-4bbe-b059-0f21f35311d1",
   "metadata": {},
   "outputs": [],
   "source": [
    "def create_dataset(file_paths, labels, class_names, img_size=(150, 150), batch_size=32, shuffle=True):\n",
    "    labels = tf.keras.utils.to_categorical(labels, num_classes=len(class_names))\n",
    "\n",
    "    ds = tf.data.Dataset.from_tensor_slices((file_paths, labels))\n",
    "\n",
    "    def load_and_preprocess_image(path, label):\n",
    "        image = tf.io.read_file(path)\n",
    "        image = tf.image.decode_jpeg(image, channels=3)\n",
    "        image = tf.image.resize(image, img_size)\n",
    "        image = image / 255.0 \n",
    "        return image, label\n",
    "\n",
    "    if shuffle:\n",
    "        ds = ds.shuffle(buffer_size=len(file_paths))\n",
    "\n",
    "    ds = ds.map(load_and_preprocess_image, num_parallel_calls=tf.data.AUTOTUNE)\n",
    "    ds = ds.batch(batch_size)\n",
    "    ds = ds.prefetch(tf.data.AUTOTUNE)\n",
    "\n",
    "    return ds"
   ]
  },
  {
   "cell_type": "code",
   "execution_count": null,
   "id": "0bdeb8f3-bc15-4664-a92b-b68cf072b040",
   "metadata": {},
   "outputs": [],
   "source": [
    "img_size = (150, 150)\n",
    "batch_size = 32\n",
    "class_names = sorted(os.listdir(train_dir))"
   ]
  },
  {
   "cell_type": "code",
   "execution_count": null,
   "id": "36ccc3d7-60cc-44a0-aa65-42551096943d",
   "metadata": {},
   "outputs": [],
   "source": [
    "train_ds = create_dataset(X_train, y_train, class_names, img_size, batch_size, shuffle=True)\n",
    "val_ds = create_dataset(X_val, y_val, class_names, img_size, batch_size, shuffle=False)\n",
    "test_ds = create_dataset(X_test, y_test, class_names, img_size, batch_size, shuffle=False)"
   ]
  },
  {
   "cell_type": "code",
   "execution_count": null,
   "id": "ca80b511-29d4-430e-a4de-0cd4d2bea4f0",
   "metadata": {},
   "outputs": [],
   "source": [
    "data_augmentation = tf.keras.Sequential([\n",
    "    tf.keras.layers.RandomFlip(\"horizontal\"),\n",
    "    tf.keras.layers.RandomRotation(0.1),\n",
    "    tf.keras.layers.RandomZoom(0.1),\n",
    "])"
   ]
  },
  {
   "cell_type": "code",
   "execution_count": null,
   "id": "3e8d16f2-f4ca-4a3c-b236-7a995f1eb4eb",
   "metadata": {},
   "outputs": [],
   "source": [
    "train_ds = train_ds.map(\n",
    "    lambda x, y: (data_augmentation(x, training=True), y),\n",
    "    num_parallel_calls=tf.data.AUTOTUNE)"
   ]
  },
  {
   "cell_type": "code",
   "execution_count": null,
   "id": "98cc1388-f828-49be-8e5d-c44b510b5122",
   "metadata": {},
   "outputs": [],
   "source": [
    "model = tf.keras.Sequential([\n",
    "    tf.keras.layers.Conv2D(32, (3, 3), activation='relu', input_shape=(img_size[0], img_size[1], 3)),\n",
    "    tf.keras.layers.MaxPooling2D(2, 2),\n",
    "\n",
    "    tf.keras.layers.Conv2D(64, (3, 3), activation='relu'),\n",
    "    tf.keras.layers.MaxPooling2D(2, 2),\n",
    "\n",
    "    tf.keras.layers.Flatten(),\n",
    "    tf.keras.layers.Dense(128, activation='relu'),\n",
    "    tf.keras.layers.Dense(len(class_names), activation='softmax')\n",
    "])"
   ]
  },
  {
   "cell_type": "code",
   "execution_count": null,
   "id": "62bc77d2-1ac7-41de-ae13-c3947aae3af9",
   "metadata": {},
   "outputs": [],
   "source": [
    "model.compile(\n",
    "    optimizer=tf.keras.optimizers.Adam(learning_rate=0.001),\n",
    "    loss='categorical_crossentropy',\n",
    "    metrics=['accuracy'])"
   ]
  },
  {
   "cell_type": "code",
   "execution_count": null,
   "id": "7a713988-0cb8-4aa4-b959-fb26017b6a98",
   "metadata": {},
   "outputs": [],
   "source": [
    "callbacks = [\n",
    "    tf.keras.callbacks.ModelCheckpoint('best_model.h5', save_best_only=True),\n",
    "    tf.keras.callbacks.TerminateOnNaN()\n",
    "]"
   ]
  },
  {
   "cell_type": "code",
   "execution_count": null,
   "id": "4428e01f-3e3e-44ad-a5e3-527cf55e498f",
   "metadata": {},
   "outputs": [],
   "source": [
    "history = model.fit(\n",
    "    train_ds,\n",
    "    validation_data=None,\n",
    "    epochs=10,\n",
    "    callbacks=callbacks,\n",
    "    verbose=1)"
   ]
  },
  {
   "cell_type": "code",
   "execution_count": null,
   "id": "96b855af-50c4-4e01-a315-5a1672b3cdda",
   "metadata": {},
   "outputs": [],
   "source": [
    "test_loss, test_acc = model.evaluate(test_ds)\n",
    "print(f'Test accuracy: {test_acc:.4f}')"
   ]
  },
  {
   "cell_type": "code",
   "execution_count": null,
   "id": "08f3375c-c99a-467e-9265-ac483a01b093",
   "metadata": {},
   "outputs": [],
   "source": [
    "import random\n",
    "\n",
    "test_images = []\n",
    "test_labels = []\n",
    "for images, labels in test_ds.take(1):  # Take one batch\n",
    "    test_images = images.numpy()\n",
    "    test_labels = labels.numpy()\n",
    "\n",
    "predictions = model.predict(test_images)\n",
    "predicted_classes = np.argmax(predictions, axis=1)\n",
    "true_classes = np.argmax(test_labels, axis=1)\n",
    "\n",
    "random_indices = random.sample(range(len(test_images)), 25)\n",
    "\n",
    "plt.figure(figsize=(20, 20))\n",
    "for i, idx in enumerate(random_indices):\n",
    "    plt.subplot(5, 5, i+1)\n",
    "    plt.imshow(test_images[idx])\n",
    "    plt.title(f\"True: {class_names[true_classes[idx]]}\\nPred: {class_names[predicted_classes[idx]]}\")\n",
    "    plt.axis('off')\n",
    "plt.tight_layout()\n",
    "plt.show()"
   ]
  },
  {
   "cell_type": "code",
   "execution_count": null,
   "id": "72486639-1a86-4374-9629-592074fcabe4",
   "metadata": {},
   "outputs": [],
   "source": [
    "from sklearn.metrics import confusion_matrix, classification_report\n",
    "import seaborn as sns\n",
    "from tqdm import tqdm\n",
    "\n",
    "all_true = []\n",
    "all_pred = []\n",
    "\n",
    "for images, labels in tqdm(test_ds):\n",
    "    if labels.ndim > 1:\n",
    "        true_labels = np.argmax(labels.numpy(), axis=1)\n",
    "    else:\n",
    "        true_labels = labels.numpy()\n",
    "\n",
    "    preds = model.predict(images, verbose=0)\n",
    "    pred_classes = np.argmax(preds, axis=1)\n",
    "\n",
    "    all_true.extend(true_labels)\n",
    "    all_pred.extend(pred_classes)\n",
    "\n",
    "all_true = np.array(all_true)\n",
    "all_pred = np.array(all_pred)\n",
    "\n",
    "present_classes = np.unique(np.concatenate([all_true, all_pred]))\n",
    "print(f\"Classes present in evaluation: {present_classes}\")\n",
    "\n",
    "filtered_class_names = [class_names[i] for i in present_classes]\n",
    "\n",
    "print(\"\\nClassification Report:\")\n",
    "print(classification_report(\n",
    "    all_true,\n",
    "    all_pred,\n",
    "    labels=present_classes,\n",
    "    target_names=filtered_class_names,\n",
    "    digits=4\n",
    "))\n",
    "\n",
    "conf_mat = confusion_matrix(all_true, all_pred, labels=present_classes)\n",
    "class_accuracies = conf_mat.diagonal() / conf_mat.sum(axis=1)\n",
    "\n",
    "print(\"\\nPer-class Accuracy:\")\n",
    "for i, class_idx in enumerate(present_classes):\n",
    "    print(f\"{class_names[class_idx]:<15}: {class_accuracies[i]:.2%} ({conf_mat[i,i]}/{conf_mat.sum(axis=1)[i]})\")\n",
    "\n",
    "plt.figure(figsize=(12, 10))\n",
    "sns.heatmap(\n",
    "    conf_mat,\n",
    "    annot=True,\n",
    "    fmt='d',\n",
    "    xticklabels=filtered_class_names,\n",
    "    yticklabels=filtered_class_names,\n",
    "    cmap='Blues',\n",
    "    annot_kws={'size': 8}\n",
    ")\n",
    "plt.title('Confusion Matrix', fontsize=14)\n",
    "plt.xlabel('Predicted', fontsize=12)\n",
    "plt.ylabel('True', fontsize=12)\n",
    "plt.xticks(rotation=45, ha='right')\n",
    "plt.yticks(rotation=0)\n",
    "plt.tight_layout()\n",
    "plt.show()\n",
    "\n",
    "plt.figure(figsize=(12, 6))\n",
    "bars = plt.bar(filtered_class_names, class_accuracies, color='skyblue')\n",
    "\n",
    "for bar, acc in zip(bars, class_accuracies):\n",
    "    height = bar.get_height()\n",
    "    plt.text(bar.get_x() + bar.get_width()/2., height,\n",
    "             f'{acc:.2%}',\n",
    "             ha='center', va='bottom')\n",
    "\n",
    "plt.title('Accuracy per Class', fontsize=14)\n",
    "plt.xlabel('Class', fontsize=12)\n",
    "plt.ylabel('Accuracy', fontsize=12)\n",
    "plt.ylim(0, 1.1)\n",
    "plt.xticks(rotation=45)\n",
    "plt.grid(axis='y', linestyle='--', alpha=0.7)\n",
    "plt.tight_layout()\n",
    "plt.show()\n",
    "\n",
    "print(\"\\nAdditional Metrics:\")\n",
    "print(f\"Overall Accuracy: {np.mean(all_true == all_pred):.2%}\")\n",
    "print(f\"Balanced Accuracy: {np.mean(class_accuracies):.2%}\")"
   ]
  }
 ],
 "metadata": {
  "kernelspec": {
   "display_name": "Python 3 (ipykernel)",
   "language": "python",
   "name": "python3"
  },
  "language_info": {
   "codemirror_mode": {
    "name": "ipython",
    "version": 3
   },
   "file_extension": ".py",
   "mimetype": "text/x-python",
   "name": "python",
   "nbconvert_exporter": "python",
   "pygments_lexer": "ipython3",
   "version": "3.12.10"
  }
 },
 "nbformat": 4,
 "nbformat_minor": 5
}
